{
 "cells": [
  {
   "cell_type": "code",
   "execution_count": 1,
   "id": "a3db0d0f",
   "metadata": {},
   "outputs": [],
   "source": [
    "def greeting(name):\n",
    "    return f\"Hello, {name}\""
   ]
  },
  {
   "cell_type": "code",
   "execution_count": 3,
   "id": "c4d62379",
   "metadata": {},
   "outputs": [],
   "source": [
    "def uppercase_decorator(func):\n",
    "    \n",
    "    # this inner method modifies the existing method\n",
    "    def wrapper(*arg, **kwarg):\n",
    "        result = func(*arg, **kwarg)\n",
    "        \n",
    "        # the modifications done to the existing method\n",
    "        return result.upper()\n",
    "    \n",
    "    # return the modified method, and not the results\n",
    "    return wrapper"
   ]
  },
  {
   "cell_type": "code",
   "execution_count": 7,
   "id": "a3fe0dd2",
   "metadata": {},
   "outputs": [],
   "source": [
    "# same as greeting = uppercase_decorator(greeting)\n",
    "\n",
    "@uppercase_decorator\n",
    "def greeting(name):\n",
    "    return f\"Hello, {name}\"    "
   ]
  },
  {
   "cell_type": "code",
   "execution_count": 8,
   "id": "e7b9a46d",
   "metadata": {},
   "outputs": [
    {
     "data": {
      "text/plain": [
       "'HELLO, SHER NING'"
      ]
     },
     "execution_count": 8,
     "metadata": {},
     "output_type": "execute_result"
    }
   ],
   "source": [
    "greeting(\"Sher Ning\")"
   ]
  },
  {
   "cell_type": "markdown",
   "id": "16beb4a2",
   "metadata": {},
   "source": [
    "The `greeting` function is now decorated with the `@uppercase_decorator`, which means that its behavior has been modified by the decorator without changing the code inside the greeting function.\n",
    "\n",
    "In summary, decorators are a convenient way to modify or enhance the behavior of functions or methods in Python without changing their internal code. You define a decorator as a function that takes another function as input and returns a new function that usually extends or modifies the input function's behavior."
   ]
  },
  {
   "cell_type": "markdown",
   "id": "09444f1b",
   "metadata": {},
   "source": [
    "In this step, `result = func(*args, **kwargs)` is a line within the wrapper function, which is an inner function defined inside the decorator function uppercase_decorator. This line is responsible for calling the input function func with the arguments and keyword arguments passed to the wrapper function. Let's break it down:\n",
    "\n",
    "`func` is the input function (in our example, it's the greeting function) that the decorator is modifying.\n",
    "\n",
    "`*args` is a syntax used to pass a variable number of non-keyword (positional) arguments to a function. It allows you to pass any number of positional arguments to the function, which will be received as a tuple in the function. In our example, `*args` would contain the `name` argument passed to the `greeting` function.\n",
    "\n",
    "`**kwargs` is a syntax used to pass a variable number of keyword arguments to a function. It allows you to pass any number of keyword arguments to the function, which will be received as a dictionary in the function. In our example, we don't have any keyword arguments, so `**kwargs` would be an empty dictionary.\n",
    "\n",
    "When you call the wrapper function with some arguments, the line `result = func(*args, **kwargs)` calls the original input function func with the same arguments and keyword arguments that were passed to the wrapper function. Then, it stores the result of the func call in the variable result.\n",
    "\n",
    "In our greeting function example, when you call `greeting(\"John\")`, you're actually calling the wrapper function with the argument `\"John\"`. The wrapper function then calls the original greeting function with the same argument `(\"John\")`, and stores the result in the result variable. Finally, the wrapper function modifies the result by converting it to uppercase and returns it.\n",
    "\n",
    "So, the line `result = func(*args, **kwargs)` is responsible for calling the original function with the same arguments and keyword arguments, and storing the result for further processing or modification by the decorator."
   ]
  },
  {
   "cell_type": "markdown",
   "id": "720588dc",
   "metadata": {},
   "source": [
    "```python\n",
    "def greeting(name):\n",
    "    print(f\"Hello, {name}!\")\n",
    "\n",
    "def print_before_and_after_decorator(func):\n",
    "    def wrapper(*args, **kwargs):\n",
    "        print(\"Before calling the function\")\n",
    "        func(*args, **kwargs)\n",
    "        print(\"After calling the function\")\n",
    "    return wrapper\n",
    "```\n",
    "\n",
    "This applies to functions and methods that don't have a return value as well.\n",
    "In python, when a function doesn't have an explicit return statement, it returns `none` by default."
   ]
  },
  {
   "cell_type": "markdown",
   "id": "2e3635aa",
   "metadata": {},
   "source": [
    "In some ways, the `@classmethod` decorator in Python is similar to the `static` keyword in C#.\n",
    "\n",
    "Both `@classmethod` and `static` allow a method to be associated with a class rather than with an instance of the class. This means that the method can be called on the class itself, rather than on an instance of the class.\n",
    "\n",
    "However, there are some important differences between the two. In C#, a static method cannot access non-static members of a class, while in Python a class method can access both class-level and instance-level members of a class. Additionally, in C#, you use the this keyword to refer to the current instance of the class, while in Python you use the self keyword.\n",
    "\n",
    "So while there are similarities between the two concepts, there are also important differences in how they work and how they are used."
   ]
  },
  {
   "cell_type": "code",
   "execution_count": null,
   "id": "81dd7557",
   "metadata": {},
   "outputs": [],
   "source": []
  }
 ],
 "metadata": {
  "kernelspec": {
   "display_name": "Python 3 (ipykernel)",
   "language": "python",
   "name": "python3"
  },
  "language_info": {
   "codemirror_mode": {
    "name": "ipython",
    "version": 3
   },
   "file_extension": ".py",
   "mimetype": "text/x-python",
   "name": "python",
   "nbconvert_exporter": "python",
   "pygments_lexer": "ipython3",
   "version": "3.11.2"
  }
 },
 "nbformat": 4,
 "nbformat_minor": 5
}
