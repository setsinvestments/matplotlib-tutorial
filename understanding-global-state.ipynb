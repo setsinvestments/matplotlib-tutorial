{
 "cells": [
  {
   "cell_type": "markdown",
   "id": "46e5a267",
   "metadata": {},
   "source": [
    "In Python, class-level variables are similar to static variables in C#. They belong to the class itself and are shared by all instances of the class.\n",
    "\n",
    "Here's the MyClass example in Python along with an equivalent version in C# to help you understand the comparison between the two languages:\n",
    "\n",
    "---\n",
    "\n",
    "```python\n",
    "class MyClass:\n",
    "    class_var = 0\n",
    "\n",
    "    def __init__(self):\n",
    "        self.instance_var = 1\n",
    "\n",
    "    def instance_method(self):\n",
    "        print(\"Called instance_method, instance_var =\", self.instance_var)\n",
    "\n",
    "    @classmethod\n",
    "    def class_method(cls):\n",
    "        print(\"Called class_method, class_var =\", cls.class_var)\n",
    "\n",
    "# Create an instance of MyClass\n",
    "my_instance = MyClass()\n",
    "\n",
    "# Call the instance method using the instance\n",
    "my_instance.instance_method()  # Output: Called instance_method, instance_var = 1\n",
    "\n",
    "# Call the class method using the class itself\n",
    "MyClass.class_method()  # Output: Called class_method, class_var = 0\n",
    "```\n",
    "\n",
    "---\n",
    "\n",
    "```c#\n",
    "using System;\n",
    "\n",
    "class MyClass\n",
    "{\n",
    "    public static int classVar = 0;\n",
    "    public int instanceVar;\n",
    "\n",
    "    public MyClass()\n",
    "    {\n",
    "        instanceVar = 1;\n",
    "    }\n",
    "\n",
    "    public void InstanceMethod()\n",
    "    {\n",
    "        Console.WriteLine(\"Called InstanceMethod, instanceVar = \" + instanceVar);\n",
    "    }\n",
    "\n",
    "    public static void ClassMethod()\n",
    "    {\n",
    "        Console.WriteLine(\"Called ClassMethod, classVar = \" + classVar);\n",
    "    }\n",
    "}\n",
    "\n",
    "class Program\n",
    "{\n",
    "    static void Main(string[] args)\n",
    "    {\n",
    "        MyClass myInstance = new MyClass();\n",
    "\n",
    "        // Call the instance method using the instance\n",
    "        myInstance.InstanceMethod();  // Output: Called InstanceMethod, instanceVar = 1\n",
    "\n",
    "        // Call the class method using the class itself\n",
    "        MyClass.ClassMethod();  // Output: Called ClassMethod, classVar = 0\n",
    "    }\n",
    "}\n",
    "```\n",
    "---\n",
    "\n",
    "In Python, we define class-level variables directly within the class scope, while in C#, we use the static keyword to define static variables. Similarly, Python uses the @classmethod decorator to define class methods, while C# uses the static keyword to define static methods.\n",
    "\n",
    "Both Python's class variables and C#'s static variables are shared by all instances of the class and can be accessed through the class itself. The instance methods in both languages access instance-level variables and require an instance of the class to be called."
   ]
  },
  {
   "cell_type": "markdown",
   "id": "6ff64891",
   "metadata": {},
   "source": [
    "### Custom Decorator\n",
    "\n",
    "```python\n",
    "def simplified_classmethod(method):\n",
    "    def wrapper(cls, *args, **kwargs):\n",
    "        return method(cls, *args, **kwargs)\n",
    "    return wrapper\n",
    "\n",
    "class MyClass:\n",
    "    class_var = 10\n",
    "\n",
    "    @simplified_classmethod\n",
    "    def class_method(cls):\n",
    "        print(\"Called class_method, class_var =\", cls.class_var)\n",
    "\n",
    "MyClass.class_method()  # Output: Called class_method, class_var = 10\n",
    "```"
   ]
  },
  {
   "cell_type": "markdown",
   "id": "a4ff9674",
   "metadata": {},
   "source": [
    "In some ways, the `@classmethod` decorator in Python is similar to the `static` keyword in C#.\n",
    "\n",
    "Both `@classmethod` and `static` allow a method to be associated with a class rather than with an instance of the class. This means that the method can be called on the class itself, rather than on an instance of the class.\n",
    "\n",
    "However, there are some important differences between the two. In C#, a static method cannot access non-static members of a class, while in Python a class method can access both class-level and instance-level members of a class. Additionally, in C#, you use the this keyword to refer to the current instance of the class, while in Python you use the self keyword.\n",
    "\n",
    "So while there are similarities between the two concepts, there are also important differences in how they work and how they are used."
   ]
  },
  {
   "cell_type": "code",
   "execution_count": 1,
   "id": "3878dca2",
   "metadata": {},
   "outputs": [],
   "source": [
    "class SimpleFigureManager:\n",
    "    _figures = {}  # A dictionary to store the Figure objects\n",
    "    _current_figure = None  # A variable to store the current Figure object\n",
    "\n",
    "    @classmethod\n",
    "    def create_figure(cls, num=None, **kwargs):\n",
    "        if num is None:\n",
    "            num = max(cls._figures.keys()) + 1 if cls._figures else 1\n",
    "\n",
    "        if num in cls._figures:\n",
    "            cls._current_figure = cls._figures[num]\n",
    "        else:\n",
    "            fig = cls.Figure(num, **kwargs)\n",
    "            cls._figures[num] = fig\n",
    "            cls._current_figure = fig\n",
    "\n",
    "        return cls._current_figure\n",
    "\n",
    "    @classmethod\n",
    "    def set_title(cls, title):\n",
    "        if cls._current_figure is not None:\n",
    "            cls._current_figure.set_title(title)\n",
    "        else:\n",
    "            raise RuntimeError(\"No current figure\")\n",
    "\n",
    "    class Figure:\n",
    "        def __init__(self, num, title=None):\n",
    "            self.num = num\n",
    "            self.title = title\n",
    "\n",
    "        def set_title(self, title):\n",
    "            self.title = title\n",
    "\n",
    "# Create a new figure\n",
    "fig1 = SimpleFigureManager.create_figure(1)\n",
    "\n",
    "# Set the title of the current figure\n",
    "SimpleFigureManager.set_title(\"Figure 1\")\n",
    "\n",
    "# Create another figure\n",
    "fig2 = SimpleFigureManager.create_figure(2)\n",
    "\n",
    "# Set the title of the current figure (Figure 2)\n",
    "SimpleFigureManager.set_title(\"Figure 2\")\n",
    "\n",
    "# Set the title of Figure 1 by making it the current figure\n",
    "SimpleFigureManager.create_figure(1)\n",
    "SimpleFigureManager.set_title(\"Updated Figure 1\")\n"
   ]
  },
  {
   "cell_type": "code",
   "execution_count": 2,
   "id": "088b8f30",
   "metadata": {},
   "outputs": [
    {
     "data": {
      "text/plain": [
       "'Updated Figure 1'"
      ]
     },
     "execution_count": 2,
     "metadata": {},
     "output_type": "execute_result"
    }
   ],
   "source": [
    "fig1.title"
   ]
  },
  {
   "cell_type": "code",
   "execution_count": 3,
   "id": "69b0a8b1",
   "metadata": {},
   "outputs": [
    {
     "data": {
      "text/plain": [
       "'Figure 2'"
      ]
     },
     "execution_count": 3,
     "metadata": {},
     "output_type": "execute_result"
    }
   ],
   "source": [
    "fig2.title"
   ]
  },
  {
   "cell_type": "markdown",
   "id": "97fc6fd2",
   "metadata": {},
   "source": [
    "In this example, the `SimpleFigureManager` class uses class-level variables and methods to maintain the global state, which includes the current figure and a dictionary of all created figures. The `create_figure` method creates a new figure or makes an existing one the current figure. The `set_title` method sets the title of the current figure.\n",
    "\n",
    "This is a very basic example and does not include many features or error handling found in `matplotlib.pyplot`. However, it demonstrates the concept of maintaining a global state within a class.\n",
    "\n",
    "You may think of global state as static state in c#.\n",
    "\n",
    "In programming, the terms \"global state\" and \"static state\" refer to variables or data that have a lifespan beyond the scope of a single function or method, and are accessible from different parts of the code. Python's global state and C#'s static state share some similarities, but they also have notable differences.\n",
    "\n",
    "---\n",
    "\n",
    "**Similarities**:\n",
    "\n",
    "Lifespan: \n",
    "> Both global variables in Python and static variables in C# have a lifespan that extends beyond the scope of individual functions or methods. They exist as long as the application is running or until they are explicitly removed.\n",
    "\n",
    "Accessibility: \n",
    "> Both global and static variables can be accessed and modified from different parts of the code, making them convenient for sharing data or state information between different components.\n",
    "\n",
    "**Differences**:\n",
    "\n",
    "Language Feature: \n",
    "> Python uses the keyword global to declare a global variable, while C# uses the keyword static to declare a static variable.\n",
    "\n",
    "Scoping:\n",
    "\n",
    "> a. In Python, global variables are accessible from anywhere within the same module, but if you want to use them in another module, you need to use the import statement.\n",
    "\n",
    "> b. In C#, static variables are scoped within the class they are declared in. You can access them using the class name followed by the variable name (e.g., ClassName.StaticVariableName). They can also have different accessibility levels (public, private, protected, internal) based on the access modifier used.\n",
    "\n",
    "Instance independence: \n",
    "> Static variables in C# are associated with the class rather than an instance of the class. This means that all instances of the class share the same value for the static variable. In Python, global variables are not tied to any class or object.\n",
    "\n",
    "Static methods and properties: \n",
    "> In C#, you can also have static methods and properties, which are associated with the class and can be called without creating an instance of the class. Python does not have an exact equivalent to C#'s static methods, but you can achieve similar functionality using class methods, which are bound to the class and not the instance, or by defining module-level functions.\n",
    "\n",
    "---\n",
    "\n",
    "In summary, both global state in Python and static state in C# allow for shared data and state management across different parts of the code. However, the way they are defined, scoped, and accessed differs between the two languages due to their specific syntax and language features."
   ]
  },
  {
   "cell_type": "code",
   "execution_count": null,
   "id": "328c6c83",
   "metadata": {},
   "outputs": [],
   "source": []
  }
 ],
 "metadata": {
  "kernelspec": {
   "display_name": "Python 3 (ipykernel)",
   "language": "python",
   "name": "python3"
  },
  "language_info": {
   "codemirror_mode": {
    "name": "ipython",
    "version": 3
   },
   "file_extension": ".py",
   "mimetype": "text/x-python",
   "name": "python",
   "nbconvert_exporter": "python",
   "pygments_lexer": "ipython3",
   "version": "3.11.2"
  }
 },
 "nbformat": 4,
 "nbformat_minor": 5
}
